{
  "nbformat": 4,
  "nbformat_minor": 0,
  "metadata": {
    "colab": {
      "provenance": []
    },
    "kernelspec": {
      "name": "python3",
      "display_name": "Python 3"
    },
    "language_info": {
      "name": "python"
    }
  },
  "cells": [
    {
      "cell_type": "markdown",
      "source": [
        "<img src=\"https://raw.githubusercontent.com/bachtiyarmawork/DQLab-Project/main/BP%20-%20Header.png\">"
      ],
      "metadata": {
        "id": "-jNAk0PLJPW1"
      }
    },
    {
      "cell_type": "markdown",
      "source": [
        "# 💾 1. Variabel\n",
        "\n",
        "Variabel pada bahasa pemrograman adalah tempat penyimpanan untuk data atau informasi. Variabel digunakan untuk menyimpan nilai, yang kemudian bisa diakses atau dimanipulasi dalam program\n",
        "<br>\n",
        "\n",
        "Aturan penamaan variabel (pada Python):\n",
        "\n",
        "*   Hanya huruf, angka dan *underscore*\n",
        "*   Nama variabel tidak dapat diawali dengan angka\n",
        "*   Usahakan nama variabel sesuai dengan kegunaannya\n",
        "*   *Lowercase preferred*\n",
        "\n",
        "<br>\n",
        "\n",
        "**Contoh :**\n",
        "Sebuah perusahaan teknologi terkemuka, DQTech tahun ini telah membukukan revenue sebesar 40 Miliar rupiah. Pada python, buatlah sebuah variabel untuk menyimpan nilai tersebut (revenue DQTech)\n",
        "\n",
        "**Jawab :** *Ketikan ini pada cell lalu eksekusi (run)*\n",
        "```\n",
        "revenue_DQTech = 40000000000\n",
        "```\n",
        "\n",
        "Perintah ini tidak akan mengeluarkan output apapun, hanya menyimpan variabel ke dalam memory"
      ],
      "metadata": {
        "id": "NeRxESQs9rdw"
      }
    },
    {
      "cell_type": "markdown",
      "source": [
        "### 👨‍💻 Task 1 - A\n",
        "\n",
        "Sebuah kode transaksi `'TRX20230001'` akan disimpan dalam sebuah variabel, coba buat sebuah variabel lalu assign nilai tersebut kedalamnya!\n",
        "\n",
        "*Note : Perhatikan aturan penamaan variabel ya!*"
      ],
      "metadata": {
        "id": "XbjQx2NV-3Ii"
      }
    },
    {
      "cell_type": "code",
      "execution_count": 1,
      "metadata": {
        "id": "AIiALShK82wr"
      },
      "outputs": [],
      "source": [
        "kode_transaksi = 'TRX20230001'\n",
        "..."
      ]
    },
    {
      "cell_type": "markdown",
      "source": [
        "### 👨‍💻 Task 1 - B\n",
        "\n",
        "Untuk menghitung PAT (Profit After Tax) pada sebuah program, perlu dibuat sebuah variabel pada Python yang menyimpan sebuah nilai PPN (Pajak Penerimaan Negara) sebesar 12%. Buatlah variabel tersebut dengan mengetikan kodenya dibawah ini!\n",
        "\n",
        "*Note : Perhatikan aturan penamaan variabel ya!*"
      ],
      "metadata": {
        "id": "tlbwKouAAySU"
      }
    },
    {
      "cell_type": "code",
      "source": [
        "PPN = 0.12\n",
        "..."
      ],
      "metadata": {
        "id": "nMtGHeD0A_Cx"
      },
      "execution_count": 2,
      "outputs": []
    },
    {
      "cell_type": "markdown",
      "source": [
        "---\n",
        "\n"
      ],
      "metadata": {
        "id": "1ju0T1SEE7gi"
      }
    },
    {
      "cell_type": "markdown",
      "source": [
        "# 🖨️ 2. Menampilkan Variabel\n",
        "\n",
        "Gunakan fungsi `print()` untuk menampilkan sesuatu pada python\n",
        "\n",
        "<br>\n",
        "\n",
        "**Contoh :**\n",
        "Sebuah perusahaan teknologi terkemuka, DQTech tahun ini telah membukukan revenue sebesar 40 Miliar rupiah. Pada python, buatlah sebuah variabel untuk menyimpan nilai tersebut (revenue DQTech) dan tampilkan nilainya dengan menambahkan beberapa kalimat penjelas.\n",
        "\n",
        "**Jawab :** *Ketikan ini pada cell lalu eksekusi (run)*\n",
        "```\n",
        "# Buat variabel\n",
        "revenue_DQTech = 40000000000\n",
        "\n",
        "# Tampilkan hasilnya\n",
        "print('Pendapatan yang diperoleh DQTech adalah', revenue_DQTech)\n",
        "\n",
        ">>> Output :      \n",
        ">>> Pendapatan yang diperoleh DQTech adalah 40000000000\n",
        "```"
      ],
      "metadata": {
        "id": "3hx6-t6eCQ7l"
      }
    },
    {
      "cell_type": "markdown",
      "source": [
        "### 👨‍💻 Task 2 - A\n",
        "\n",
        "Sebuah nilai `'TRX20230001'` akan disimpan dalam sebuah variabel, coba buat sebuah variabel lalu assign nilai tersebut kedalamnya lalu tampilkan outputnya!\n",
        "\n",
        "Gunakan `Style 1 : print('...', variabel1, ...)`"
      ],
      "metadata": {
        "id": "CSs2Js4ECi4L"
      }
    },
    {
      "cell_type": "code",
      "source": [
        "# Write your code below here & exec!\n",
        "print('kode transaksi :' , kode_transaksi)"
      ],
      "metadata": {
        "id": "V5qiLOhgCgRB",
        "colab": {
          "base_uri": "https://localhost:8080/"
        },
        "outputId": "0e50a023-b96d-4209-b5fe-a2485cb7cecd"
      },
      "execution_count": 5,
      "outputs": [
        {
          "output_type": "stream",
          "name": "stdout",
          "text": [
            "kode transaksi : TRX20230001\n"
          ]
        }
      ]
    },
    {
      "cell_type": "markdown",
      "source": [
        "### 👨‍💻 Task 2 - B\n",
        "\n",
        "Perintah yang sama namun gunakan `Style 2 : print(f'... {variabel}')`"
      ],
      "metadata": {
        "id": "Wtl9uUDFDFhD"
      }
    },
    {
      "cell_type": "code",
      "source": [
        "# Write your code below here & exec!\n",
        "print(f'Nomor transaksi yang disimpan adalah {kode_transaksi}')"
      ],
      "metadata": {
        "id": "wHe-aSuWDFB_",
        "colab": {
          "base_uri": "https://localhost:8080/"
        },
        "outputId": "47e3d34b-129c-4b5f-d312-c6200a18e2ac"
      },
      "execution_count": 3,
      "outputs": [
        {
          "output_type": "stream",
          "name": "stdout",
          "text": [
            "Nomor transaksi yang disimpan adalah TRX20230001\n"
          ]
        }
      ]
    },
    {
      "cell_type": "markdown",
      "source": [
        "### 👨‍💻 Task 2 - C\n",
        "\n",
        "Perintah yang sama namun gunakan `Style 3 : print('... {}'.format(variabel))`"
      ],
      "metadata": {
        "id": "ntOPyJMoDc6k"
      }
    },
    {
      "cell_type": "code",
      "source": [
        "# Write your code below here & exec!\n",
        "z = 'TRX20230002'\n",
        "print('Nomor transaksi yang disimpan adalah {}'.format(z))"
      ],
      "metadata": {
        "id": "EqgoHxfGDpNT",
        "colab": {
          "base_uri": "https://localhost:8080/"
        },
        "outputId": "5336994c-5eea-4ecf-8575-dbd4e3b8d6ef"
      },
      "execution_count": 8,
      "outputs": [
        {
          "output_type": "stream",
          "name": "stdout",
          "text": [
            "Nomor transaksi yang disimpan adalah TRX20230002\n"
          ]
        }
      ]
    },
    {
      "cell_type": "markdown",
      "source": [
        "### 👨‍💻 Task 2 - D\n",
        "\n",
        "Bang Messi, seorang customer di DQTech memiliki data diri sebagai berikut :     \n",
        "\n",
        "*   Nama = Messi\n",
        "*   Usia = 36 Tahun\n",
        "*   Alamat = Tegal Bahari\n",
        "\n",
        "Simpanlah beberapa data tersebut kedalam variabel dengan expected output seperti berikut\n",
        "\n",
        "`Messi (36) beralamat di Tegal Bahari merupakan pelanggan loyal di DQTech`"
      ],
      "metadata": {
        "id": "z6N44zylDwCl"
      }
    },
    {
      "cell_type": "code",
      "source": [
        "# Write your code below here & exec!\n",
        "nama_pelanggan = 'Messi'\n",
        "usia_pelanggan = 36\n",
        "alamat_pelanggan = 'Tegal Bahari'\n",
        "\n",
        "# Tampilkan hasil\n",
        "print(f\"{nama_pelanggan} ({usia_pelanggan}) beralamat di {alamat_pelanggan} merupakan pelanggan loyal di DQTech\")"
      ],
      "metadata": {
        "id": "1OVzy38fDy3a",
        "colab": {
          "base_uri": "https://localhost:8080/"
        },
        "outputId": "41742e83-8ad1-49b9-a58f-eb5065b995ab"
      },
      "execution_count": 17,
      "outputs": [
        {
          "output_type": "stream",
          "name": "stdout",
          "text": [
            "Messi (36) beralamat di Tegal Bahari merupakan pelanggan loyal di DQTech\n"
          ]
        }
      ]
    },
    {
      "cell_type": "markdown",
      "source": [
        "---"
      ],
      "metadata": {
        "id": "6N5e2DffKE_e"
      }
    },
    {
      "cell_type": "markdown",
      "source": [
        "# ➡️ 3. Assignment\n",
        "\n",
        "Assignment adalah tindakan memberikan nilai atau data ke sebuah variabel.\n",
        "\n",
        "*   Variable yang akan diassignment harus terletak disebelah kiri tanda sama dengan ( = )\n",
        "*   Variabel yang sama jika diassign 2 kali maka nilai yang akan disimpan adalah yang paling akhir\n",
        "*   Python men-support proses assignment satu nilai pada multivariable\n",
        "*   Python juga men-support proses assignment banyak nilai pada multivariable secara serentak\n",
        "*   Proses sebelah kanan akan dilakukan terlebih dahulu baru di-assign ke variable sebelah kiri\n",
        "\n",
        "\n",
        "\n"
      ],
      "metadata": {
        "id": "0wt9UE4iHWgt"
      }
    },
    {
      "cell_type": "markdown",
      "source": [
        "### 👨‍💻 Task 3 - A\n",
        "\n",
        "Metrik yang digunakan dalam periklanan online dan pemasaran digital untuk mengukur seberapa sering pengguna mengklik tautan atau iklan tertentu dibandingkan dengan seberapa sering tautan atau iklan tersebut ditampilkan kepada mereka biasa disebut dengan Click-Through Rate (CTR).\n",
        "\n",
        "CTR yang diperoleh DQTech sebesar 4,3896% yang kemudian nilai ini ingin disimpan dalam sebuah variabel bernama CTR_DQtech lalu ingin ditampilkan hasilnya. Namun, Sendja mengalami error saat proses penyimpanan variabel tersebut.\n",
        "\n",
        "Bantu Sendja untuk memperbaiki kode dibawah ini"
      ],
      "metadata": {
        "id": "vEcbL1SQKEG9"
      }
    },
    {
      "cell_type": "code",
      "source": [
        "# Help Sendja!\n",
        "\n",
        "# Initialize Variable\n",
        "4,3896% = 'CTR_DQTech'\n",
        "\n",
        "# Show the result\n",
        "pritn('CTR_DQTech')"
      ],
      "metadata": {
        "colab": {
          "base_uri": "https://localhost:8080/",
          "height": 135
        },
        "id": "Jm6YZwJ4J2bE",
        "outputId": "ae73b6c8-46f5-4766-a630-3b727ebace82"
      },
      "execution_count": null,
      "outputs": [
        {
          "output_type": "error",
          "ename": "SyntaxError",
          "evalue": "ignored",
          "traceback": [
            "\u001b[0;36m  File \u001b[0;32m\"<ipython-input-35-0314d3859cd2>\"\u001b[0;36m, line \u001b[0;32m4\u001b[0m\n\u001b[0;31m    4,3896% = 'CTR_DQTech'\u001b[0m\n\u001b[0m            ^\u001b[0m\n\u001b[0;31mSyntaxError\u001b[0m\u001b[0;31m:\u001b[0m invalid syntax\n"
          ]
        }
      ]
    },
    {
      "cell_type": "code",
      "source": [
        "# Perbaiki disini\n",
        "..."
      ],
      "metadata": {
        "id": "EkQbUtnJGHrE"
      },
      "execution_count": null,
      "outputs": []
    },
    {
      "cell_type": "markdown",
      "source": [
        "### 👨‍💻 Task 3 - B\n",
        "\n",
        "Tulis dalam satu baris proses assignment beberapa variabel indikator keuangan pada perbankan syariah berikut pada python :    \n",
        "\n",
        "* NPF : 3.56\n",
        "* COF : 1.78\n",
        "* FDR : 56\n",
        "\n",
        "*Note : Just One Line Needed!*"
      ],
      "metadata": {
        "id": "Ol81wxcmM3o1"
      }
    },
    {
      "cell_type": "code",
      "source": [
        "# Write your code below here & exec!\n",
        "...\n",
        "\n",
        "# Tampilkan nilainya\n",
        "print(...)"
      ],
      "metadata": {
        "colab": {
          "base_uri": "https://localhost:8080/"
        },
        "id": "FaU1zdsjrO2T",
        "outputId": "58d2d66b-c3b1-4dec-ce30-7711afd117d5"
      },
      "execution_count": null,
      "outputs": [
        {
          "output_type": "stream",
          "name": "stdout",
          "text": [
            "Nilai NPF = 3.56, COF = 1.78 dan FDR = 56\n"
          ]
        }
      ]
    },
    {
      "cell_type": "markdown",
      "source": [
        "---"
      ],
      "metadata": {
        "id": "uLupQlVPcD6K"
      }
    },
    {
      "cell_type": "markdown",
      "source": [
        "# 📈 4. Tipe Data\n",
        "\n",
        "Tipe data adalah jenis nilai yang disimpan pada sebuah variabel. Jenis tipe data pada python : <br><br>    \n",
        "\n",
        "<table>\n",
        "  <tr>\n",
        "    <th>Tipe Data</th>\n",
        "    <th>Kepanjangan</th>\n",
        "    <th>Deskripsi</th>\n",
        "  </tr>\n",
        "  <tr>\n",
        "    <td>str</td>\n",
        "    <td>string</td>\n",
        "    <td>Karakter / alfabet</td>\n",
        "  </tr>\n",
        "  <tr>\n",
        "    <td>int</td>\n",
        "    <td>integer</td>\n",
        "    <td>Bilangan Bulat</td>\n",
        "  </tr>\n",
        "  <tr>\n",
        "    <td>float</td>\n",
        "    <td>floating-point number</td>\n",
        "    <td>Semua Bilangan (baik bulat maupun desimal)</td>\n",
        "  </tr>\n",
        "  <tr>\n",
        "    <td>complex</td>\n",
        "    <td>complex number</td>\n",
        "    <td>Campuran bilangan bulat dan bilangan imajiner</td>\n",
        "  </tr>\n",
        "  <tr>\n",
        "    <td>bool</td>\n",
        "    <td>boolean</td>\n",
        "    <td>Nilai Kebenaran (True / False)</td>\n",
        "  </tr>\n",
        "</table>\n",
        "\n",
        "Untuk memeriksa tipe data pada sebuah variabel gunakan fungsi `type(variabel)`\n",
        "\n",
        "<br>\n",
        "\n",
        "**Contoh :**\n",
        "Sebuah perusahaan teknologi terkemuka, DQTech tahun ini telah membukukan revenue sebesar 40 Miliar rupiah. Pada python, buatlah sebuah variabel untuk menyimpan nilai tersebut (revenue DQTech) dan tampilkan nilainya beserta tipe datanya dengan menambahkan beberapa kalimat penjelas\n",
        "\n",
        "**Jawab :** *Ketikan ini pada cell lalu eksekusi (run)*\n",
        "```\n",
        "# Buat variabel\n",
        "revenue_DQTech = 40000000000\n",
        "\n",
        "# Tampilkan hasilnya\n",
        "print(f'Pendapatan yang diperoleh DQTech adalah {revenue_DQTech} dengan tipe data {type(revenue_DQTech)}')\n",
        "\n",
        ">>> Output :      \n",
        ">>> Pendapatan yang diperoleh DQTech adalah 40000000000 dengan tipe data <class 'int'>\n",
        "```"
      ],
      "metadata": {
        "id": "0km2BS2DSnD5"
      }
    },
    {
      "cell_type": "markdown",
      "source": [
        "### 👨‍💻 Task 4 - A\n",
        "\n",
        "Aplikasi baru yang diluncurkan oleh perusahaan teknologi ternama DQTech mendapat rating 4.9 (scoring max = 5.0). Nilai tersebut akan disimpan kedalam sebuah variabel pada python sehingga bantulah Sendja untuk membuat variabel dan tampilkan nilai beserta tipe datanya!"
      ],
      "metadata": {
        "id": "I-oaUas-UKP1"
      }
    },
    {
      "cell_type": "code",
      "source": [
        "# Write your code below here & exec!\n",
        "rating_dqtech = 4.9\n",
        "\n",
        "# Tampilkan hasilnya\n",
        "print(f'rating score DQTech adalah {rating_dqtech} Bertipe : {type(rating_dqtech)}')"
      ],
      "metadata": {
        "id": "esOl1BXQWDwA",
        "colab": {
          "base_uri": "https://localhost:8080/"
        },
        "outputId": "757fde69-f4b4-42bd-9dec-369b38b838ec"
      },
      "execution_count": 21,
      "outputs": [
        {
          "output_type": "stream",
          "name": "stdout",
          "text": [
            "rating score DQTech adalah 4.9 Bertipe : <class 'float'>\n"
          ]
        }
      ]
    },
    {
      "cell_type": "markdown",
      "source": [
        "### 👨‍💻 Task 4 - B\n",
        "\n",
        "Kode yang dituliskan Sendja berikut dapat dieksekusi oleh Python,\n",
        "\n",
        "```\n",
        "retention_rate = '0.8912'\n",
        "\n",
        "print('Variabel retention_rate menyimpan nilai = {retention_rate} dengan tipe data = {type}')\n",
        "```\n",
        "\n",
        "namun outputnya tidak sesuai dengan yang Sendja harapkan. Bantulah Sendja untuk memperbaiki kesalahan yang dilakukan olehnya!"
      ],
      "metadata": {
        "id": "xzKPKft-WELu"
      }
    },
    {
      "cell_type": "code",
      "source": [
        "# Help Sendja!\n",
        "retention_rate = '0.8912'\n",
        "\n",
        "print('Variabel retention_rate menyimpan nilai = {retention_rate} dengan tipe data = {type}')"
      ],
      "metadata": {
        "colab": {
          "base_uri": "https://localhost:8080/"
        },
        "id": "pJyqZUG3XYDL",
        "outputId": "8ba0925b-90c1-4928-828c-c64eb0302429"
      },
      "execution_count": 22,
      "outputs": [
        {
          "output_type": "stream",
          "name": "stdout",
          "text": [
            "Variabel retention_rate menyimpan nilai = {retention_rate} dengan tipe data = {type}\n"
          ]
        }
      ]
    },
    {
      "cell_type": "code",
      "source": [
        "# Perbaikan\n",
        "retention_rate = 0.8912\n",
        "\n",
        "print(f'Variabel retention_rate menyimpan nilai = {retention_rate} dengan tipe data = {type(retention_rate)}')"
      ],
      "metadata": {
        "colab": {
          "base_uri": "https://localhost:8080/"
        },
        "id": "P9ZqSTeRzUDi",
        "outputId": "c906e55a-c859-4ff6-bdef-b6e9aca21b2b"
      },
      "execution_count": 25,
      "outputs": [
        {
          "output_type": "stream",
          "name": "stdout",
          "text": [
            "Variabel retention_rate menyimpan nilai = 0.8912 dengan tipe data = <class 'float'>\n"
          ]
        }
      ]
    },
    {
      "cell_type": "markdown",
      "source": [
        "---"
      ],
      "metadata": {
        "id": "zg-B2JnPcCsF"
      }
    },
    {
      "cell_type": "markdown",
      "source": [
        "# 🛠 5. Konversi Tipe Data\n",
        "\n",
        "Tipe data pada sebuah variabel dapat diubah dari aslinya dengan syarat variabel yang akan di konversi tipe datanya sesuai. Untuk mengubah suatu variabel dengan tipe data tertentu menjadi tipe data yang diinginkan gunakan fungsi berikut :\n",
        "\n",
        "1. int('\\<nama_variabel\\>')   : untuk mengubah tipe data variabel menjadi integer / bil. bulat\n",
        "<br><i>docs : https://docs.python.org/3/library/functions.html#int</i></br>\n",
        "2. float('\\<nama_variabel\\>') : untuk mengubah tipe data variabel menjadi float / bil. real\n",
        "<br><i>docs : https://docs.python.org/3/library/functions.html#float</i></br>\n",
        "3. str('\\<nama_variabel\\>')   : untuk mengubah tipe data variabel menjadi string\n",
        "<br><i>docs : https://docs.python.org/3/library/functions.html#func-str</i></br>\n",
        "4. bool('\\<nama_variabel\\>')   : untuk mengubah tipe data variabel menjadi boolean\n",
        "<br><i>docs : https://docs.python.org/3/library/functions.html#bool</i></br>\n",
        "\n",
        "Namun, yang perlu diperhatikan adalah tidak semua variabel dengan tipe data tertentu dapat dengan mudah diubah tipe datanya.\n",
        "\n",
        "\n",
        "<br>\n",
        "\n",
        "**Contoh :**\n",
        "Sebuah perusahaan teknologi terkemuka, DQTech tahun ini telah membukukan revenue sebesar 40 Miliar rupiah. Pada python, buatlah sebuah variabel untuk menyimpan nilai tersebut (revenue DQTech) dan tampilkan nilainya beserta tipe datanya dengan menambahkan beberapa kalimat penjelas. Kemudian ubah tipe datanya menjadi float!\n",
        "\n",
        "**Jawab :** *Ketikan ini pada cell lalu eksekusi (run)*\n",
        "```\n",
        "# Buat variabel\n",
        "revenue_DQTech = 40000000000\n",
        "\n",
        "# Tampilkan hasilnya\n",
        "print(f'Pendapatan yang diperoleh DQTech adalah {revenue_DQTech} dengan tipe data {type(revenue_DQTech)}')\n",
        "\n",
        ">>> Output :      \n",
        ">>> Pendapatan yang diperoleh DQTech adalah 40000000000 dengan tipe data <class 'int'>\n",
        "```\n",
        "\n",
        "Proses Konversi tipe data\n",
        "```\n",
        "# Buat variabel\n",
        "revenue_DQTech = float(revenue_DQTech)\n",
        "\n",
        "# Tampilkan hasilnya\n",
        "print(f'Pendapatan yang diperoleh DQTech adalah {revenue_DQTech} dengan tipe data {type(revenue_DQTech)}')\n",
        "\n",
        ">>> Output :      \n",
        ">>> Pendapatan yang diperoleh DQTech adalah 40000000000.0 dengan tipe data <class 'float'>\n",
        "```"
      ],
      "metadata": {
        "id": "rsBF4ra9ZDSt"
      }
    },
    {
      "cell_type": "markdown",
      "source": [
        "### 👨‍💻 Task 5\n",
        "\n",
        "Lakukan eksperimen sesuka hatimu untuk melakukan konversi tipe data dari sebuah variabel, tampilkan hasilnya juga ya!"
      ],
      "metadata": {
        "id": "BZJDUFMyZz41"
      }
    },
    {
      "cell_type": "code",
      "source": [
        "# Write your code below here & exec!\n",
        "pi = '3.14'\n",
        "\n",
        "# Tampilkan hasilnya\n",
        "print(f'Pi lingkaran adalah {pi} dengan tipe data {type(pi)}')"
      ],
      "metadata": {
        "id": "jITwsxbUaQaF",
        "colab": {
          "base_uri": "https://localhost:8080/"
        },
        "outputId": "6e8410ec-01de-4097-c01f-ffc93274e5ce"
      },
      "execution_count": 27,
      "outputs": [
        {
          "output_type": "stream",
          "name": "stdout",
          "text": [
            "Pi lingkaran adalah 3.14 dengan tipe data <class 'str'>\n"
          ]
        }
      ]
    },
    {
      "cell_type": "code",
      "source": [
        "# Konversi tipe data & tampilkan hasilnya\n",
        "pi = float(pi)\n",
        "print(f'Pi lingkaran adalah {pi} dengan tipe data {type(pi)}')\n"
      ],
      "metadata": {
        "colab": {
          "base_uri": "https://localhost:8080/"
        },
        "id": "UM2wNWdZq2cc",
        "outputId": "785d19e9-9bc8-429a-f8e5-b867f09c32cc"
      },
      "execution_count": 28,
      "outputs": [
        {
          "output_type": "stream",
          "name": "stdout",
          "text": [
            "Pi lingkaran adalah 3.14 dengan tipe data <class 'float'>\n"
          ]
        }
      ]
    },
    {
      "cell_type": "markdown",
      "source": [
        "---"
      ],
      "metadata": {
        "id": "zmoxEscdcBcR"
      }
    },
    {
      "cell_type": "markdown",
      "source": [
        "# 🧮 6. Operasi Variabel\n",
        "\n",
        "Variabel dapat juga dilakukan proses operasi baik operasi perhitungan maupun operasi yang lain. Berikut merupakan operasi variabel yang valid atau dapat dilakukan pada bahasa pemrograman Python\n",
        "\n",
        "1. Operasi Aritmatika\n",
        "<br> Operasi aritmatika hanya berlaku pada satu atau lebih variabel dengan tipe data numerik seperti float, int maupun bilangan kompleks.</br>\n",
        "\n",
        "<p align=\"center\">\n",
        "<img src=\"http://lam-programming.weebly.com/uploads/2/3/3/2/23323570/screenshot-2018-12-11-11-57-08_orig.png\" width=\"500\" height=\"300\" alt=\"alternatetext\">\n",
        "<p align=\"center\"><b>Gambar 1. Operasi Pada Variabel</b></p></p><br>\n",
        "\n",
        "\n",
        "\n",
        "2. Operasi String\n",
        "<br>String hanya dapat dioperasikan dengan sesama string menggunakan operator ( + ) untuk menggabung (<i>concatenate</i>) satu string dengan yang lain atau dapat juga dioperasikan dengan integer menggunakan operator ( * ) untuk melipatgandakan string sebanyak bilangan integer yang diinisialisasikan</br>\n",
        "\n",
        "<p align=\"center\">\n",
        "<img src=\"https://files.transtutors.com/book/qimg/6bd88be4-d7be-4b4f-859e-2f95e9dc9962.png\" width=\"400\" height=\"500\" alt=\"alternatetext\">\n",
        "<p align=\"center\"><b>Gambar 2. Method pada String</b></p></p><br>\n",
        "\n",
        "\n"
      ],
      "metadata": {
        "id": "aicKbKT1bxBR"
      }
    },
    {
      "cell_type": "markdown",
      "source": [
        "### 👨‍💻 Task 6 - A\n",
        "\n",
        "Customer Satisfaction Score (CSAT) adalah metrik yang digunakan untuk mengukur tingkat kepuasan pelanggan terhadap produk atau layanan. Dirumuskan sebagai\n",
        "\n",
        "  \\begin{equation}\n",
        "  CSAT =  \\frac{Total\\ Respon\\ Positif}{Total\\ Respon}*100\n",
        "  \\end{equation}\n",
        "\n",
        "Dari 125 Responden, 13 diantaranya merespon negatif aplikasi terbaru yang di-deploy oleh DQtech karena ditemukan beberapa *bug*. Dengan bantuan Python, hitung berapa nilai metrik CSAT yang diperoleh oleh DQTech!"
      ],
      "metadata": {
        "id": "o6tQw79wcg6l"
      }
    },
    {
      "cell_type": "code",
      "source": [
        "# Fill the blank\n",
        "total_responden = 125\n",
        "respon_negatif = 13\n",
        "respon_positif = total_responden - respon_negatif\n",
        "\n",
        "# Hitung CSAT\n",
        "CSAT = (respon_positif/total_responden)*100\n",
        "\n",
        "# Tampilkan CSAT\n",
        "print(f'Customer Satisfaction Score ={CSAT:.1f}%')"
      ],
      "metadata": {
        "id": "nKR9Spwae7C8",
        "colab": {
          "base_uri": "https://localhost:8080/"
        },
        "outputId": "c3ace857-87c9-4253-8be7-5922784b66df"
      },
      "execution_count": 31,
      "outputs": [
        {
          "output_type": "stream",
          "name": "stdout",
          "text": [
            "Customer Satisfaction Score =89.6%\n"
          ]
        }
      ]
    },
    {
      "cell_type": "markdown",
      "source": [
        "### 👨‍💻 Task 6 - B\n",
        "\n",
        "Buatlah sebuah variabel yang menyimpan nilai '1nDon3s1A', perbaiki kata '1nDon3s1A' menjadi 'INDONESIA' lalu tampilkan hasilnya"
      ],
      "metadata": {
        "id": "U5zi-jkVqXVw"
      }
    },
    {
      "cell_type": "code",
      "source": [
        "negara = '1nDon3s1A'\n",
        "\n",
        "# Perbaiki disini\n",
        "print(negara)"
      ],
      "metadata": {
        "id": "j9ruNO39qr2S",
        "colab": {
          "base_uri": "https://localhost:8080/"
        },
        "outputId": "99080ee6-c6ca-4f85-a83a-224146cd7470"
      },
      "execution_count": 36,
      "outputs": [
        {
          "output_type": "stream",
          "name": "stdout",
          "text": [
            "1nDon3s1A\n"
          ]
        }
      ]
    },
    {
      "cell_type": "code",
      "source": [
        "# Perbaikan 1 - Ubah menjadi uppercase semua\n",
        "negara = negara.upper()\n",
        "\n",
        "print(negara)"
      ],
      "metadata": {
        "colab": {
          "base_uri": "https://localhost:8080/"
        },
        "id": "rtbs5RbewfFp",
        "outputId": "99833b90-2138-4946-84ac-70347766b943"
      },
      "execution_count": 37,
      "outputs": [
        {
          "output_type": "stream",
          "name": "stdout",
          "text": [
            "1NDON3S1A\n"
          ]
        }
      ]
    },
    {
      "cell_type": "code",
      "source": [
        "# Perbaikan 2 - Ubah angka 1 menjadi I\n",
        "negara = negara.replace(\"1\", \"I\")\n",
        "\n",
        "print(negara)"
      ],
      "metadata": {
        "colab": {
          "base_uri": "https://localhost:8080/"
        },
        "id": "NZVubxcRwpXl",
        "outputId": "2b7931e1-7265-477a-a0c7-be5735d2eed5"
      },
      "execution_count": 38,
      "outputs": [
        {
          "output_type": "stream",
          "name": "stdout",
          "text": [
            "INDON3SIA\n"
          ]
        }
      ]
    },
    {
      "cell_type": "code",
      "source": [
        "# Perbaikan 2 - Ubah angka 3 menjadi E\n",
        "negara = negara.replace(\"3\", \"E\")\n",
        "\n",
        "print(negara)"
      ],
      "metadata": {
        "colab": {
          "base_uri": "https://localhost:8080/"
        },
        "id": "aYxRlG8EwvTW",
        "outputId": "9f1760f0-4573-4e57-8e8c-f5de8676414e"
      },
      "execution_count": 39,
      "outputs": [
        {
          "output_type": "stream",
          "name": "stdout",
          "text": [
            "INDONESIA\n"
          ]
        }
      ]
    },
    {
      "cell_type": "code",
      "source": [],
      "metadata": {
        "id": "S2AKRzgGMLYC"
      },
      "execution_count": null,
      "outputs": []
    },
    {
      "cell_type": "markdown",
      "source": [
        "\n",
        "---"
      ],
      "metadata": {
        "id": "dR-6EfVYmBk6"
      }
    },
    {
      "cell_type": "markdown",
      "source": [
        "**Written By :** <br>\n",
        "<a href=\"https://linkedin.com/in/bachtiyarma\"><img alt=\"Linked In Link\" src=\"https://img.shields.io/badge/-Bachtiyar%20M.%20Arief-0072b1?style=for-the-badge&logo=None&logoColor=white\" align=\"left\"/></a>\n",
        "\n",
        "<br><br>**for :**\n",
        "\n",
        "<a href=\"https://dqlab.id/\"><img src=\"https://dqlab.id/files/dqlab/cache/87e30118ebba5ec7d96f6ea8c9dcc10b_x_118_X_55.png\" align=\"left\" /></a>"
      ],
      "metadata": {
        "id": "IZHHncdiIrH3"
      }
    }
  ]
}